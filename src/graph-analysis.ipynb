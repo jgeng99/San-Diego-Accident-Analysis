{
 "cells": [
  {
   "cell_type": "markdown",
   "id": "7b8374b2",
   "metadata": {},
   "source": [
    "### Setup, Connection"
   ]
  },
  {
   "cell_type": "code",
   "execution_count": 164,
   "id": "df346cf8",
   "metadata": {},
   "outputs": [],
   "source": [
    "# database\n",
    "from neo4j import GraphDatabase\n",
    "import psycopg2\n",
    "\n",
    "# utility\n",
    "import geocoder\n",
    "import numpy as np\n",
    "import pandas as pd\n",
    "from tqdm.notebook import tqdm\n",
    "import random\n",
    "import getpass\n",
    "from statistics import mode"
   ]
  },
  {
   "cell_type": "code",
   "execution_count": 291,
   "id": "abe15ce4",
   "metadata": {
    "scrolled": true
   },
   "outputs": [
    {
     "name": "stdout",
     "output_type": "stream",
     "text": [
      "Enter Postgres Password: ········\n"
     ]
    }
   ],
   "source": [
    "# connect to postgres\n",
    "pg_password = getpass.getpass(\"Enter Postgres Password: \")\n",
    "pg = psycopg2.connect(\n",
    "    dbname=\"accident_analysis\",\n",
    "    user=\"postgres\",\n",
    "    password=pg_password,\n",
    "    host=\"localhost\",\n",
    "    port=\"5432\"\n",
    ")"
   ]
  },
  {
   "cell_type": "code",
   "execution_count": 2,
   "id": "2b758208",
   "metadata": {},
   "outputs": [],
   "source": [
    "uri = \"bolt://localhost:7666\"\n",
    "username = \"neo4j\"\n",
    "password = \"password\"\n",
    "\n",
    "def create_neo4j_session(uri, username, password):\n",
    "    try:\n",
    "        driver = GraphDatabase.driver(uri, auth=(username, password))\n",
    "        session = driver.session()\n",
    "        return session\n",
    "    except Exception as e:\n",
    "        print(f\"Failed to create Neo4j session: {e}\")\n",
    "        return None"
   ]
  },
  {
   "cell_type": "markdown",
   "id": "9f3e2889",
   "metadata": {},
   "source": [
    "### Helper GDS Graphs"
   ]
  },
  {
   "cell_type": "code",
   "execution_count": 265,
   "id": "7bd5bbb6",
   "metadata": {},
   "outputs": [],
   "source": [
    "result.consume?"
   ]
  },
  {
   "cell_type": "code",
   "execution_count": 3,
   "id": "748d84da",
   "metadata": {},
   "outputs": [],
   "source": [
    "session = create_neo4j_session(uri, username, password)\n",
    "\n",
    "# add full graph to GDS\n",
    "project_full_graph = \"\"\"\n",
    "CALL gds.graph.project(\n",
    "    'fullGraph',\n",
    "    ['Accident'],\n",
    "    {CLOSE_TO: {orientation: 'UNDIRECTED', type:'WITHIN_RANGE'}}\n",
    ")\n",
    "\"\"\"\n",
    "\n",
    "result = session.run(project_full_graph)\n",
    "\n",
    "session.close()"
   ]
  },
  {
   "cell_type": "markdown",
   "id": "c39e66b4",
   "metadata": {},
   "source": [
    "### Queries"
   ]
  },
  {
   "cell_type": "markdown",
   "id": "565800ce",
   "metadata": {},
   "source": [
    "#### (1) In what community(s) do accidents most densely occur in San Diego?"
   ]
  },
  {
   "cell_type": "code",
   "execution_count": 238,
   "id": "6b867177",
   "metadata": {},
   "outputs": [],
   "source": [
    "def get_community(locations, sample_prop=.05):\n",
    "    result_locations = []\n",
    "    for loc in locations:\n",
    "        if not (random.randint(1, int(1/sample_prop)) - 1):  # randomly pick\n",
    "            location = geocoder.osm(list(loc), method='reverse')\n",
    "            if location.ok:\n",
    "                address = location.raw['address']\n",
    "                community = address.get('suburb') or address.get('neighbourhood') or address.get('city')\n",
    "                if community:\n",
    "                    result_locations.append(community)\n",
    "    return mode(result_locations)"
   ]
  },
  {
   "cell_type": "code",
   "execution_count": 239,
   "id": "dc0046ff",
   "metadata": {},
   "outputs": [],
   "source": [
    "def dense_accident_communities(num_communities, gds_name='fullGraph', sample_prop=0.02):\n",
    "    session = create_neo4j_session(uri, username, password)\n",
    "\n",
    "    # find largest component in GDS\n",
    "    community_detection = f\"\"\"\n",
    "    CALL gds.beta.leiden.stream('{gds_name}')\n",
    "    YIELD nodeId, communityId\n",
    "    WITH communityId, count(*) AS communitySize, collect(gds.util.asNode(nodeId)) AS communityNodes\n",
    "    ORDER BY communitySize DESC\n",
    "    LIMIT {num_communities}\n",
    "\n",
    "    UNWIND communityNodes AS n\n",
    "    RETURN n.pt AS loc, communityId AS cId, communitySize AS cSize\n",
    "    \"\"\"\n",
    "\n",
    "    result = session.run(community_detection)\n",
    "\n",
    "    community_results = [(\n",
    "        record['loc'].latitude, \n",
    "        record['loc'].longitude, \n",
    "        record['cId'],\n",
    "        record['cSize']\n",
    "    ) for record in result]\n",
    "    session.close()\n",
    "    \n",
    "    # post processing\n",
    "    comm_df = pd.DataFrame(community_results, columns=['lat', 'lng', 'cId', 'num_accidents'])\n",
    "    communities = comm_df.groupby(['cId', 'num_accidents']).apply(lambda df: get_community(\n",
    "        df[['lat', 'lng']].to_records(index=False), sample_prop=sample_prop\n",
    "    ))\n",
    "    \n",
    "    return (\n",
    "        communities\n",
    "        .reset_index()\n",
    "        .drop(columns=['cId'])\n",
    "        .sort_values(by='num_accidents', ascending=False)\n",
    "        .rename(columns={0: 'community'})\n",
    "        .to_dict('records')\n",
    "    )"
   ]
  },
  {
   "cell_type": "code",
   "execution_count": 240,
   "id": "19f402e8",
   "metadata": {},
   "outputs": [
    {
     "data": {
      "text/plain": [
       "[{'num_accidents': 695, 'community': 'City Heights'}]"
      ]
     },
     "execution_count": 240,
     "metadata": {},
     "output_type": "execute_result"
    }
   ],
   "source": [
    "dense_accident_communities(1, sample_prop=0.005)"
   ]
  },
  {
   "cell_type": "code",
   "execution_count": 241,
   "id": "4f34036b",
   "metadata": {},
   "outputs": [
    {
     "data": {
      "text/plain": [
       "[{'num_accidents': 695, 'community': 'City Heights'},\n",
       " {'num_accidents': 561, 'community': \"Banker's Hill\"},\n",
       " {'num_accidents': 500, 'community': 'Logan Heights'}]"
      ]
     },
     "execution_count": 241,
     "metadata": {},
     "output_type": "execute_result"
    }
   ],
   "source": [
    "dense_accident_communities(3, sample_prop=0.02)"
   ]
  },
  {
   "cell_type": "markdown",
   "id": "4798b099",
   "metadata": {},
   "source": [
    "#### (2) In what community(s) do accidents involving more injures ($>2$) most densely occur in San Diego?"
   ]
  },
  {
   "cell_type": "code",
   "execution_count": 256,
   "id": "f8532950",
   "metadata": {},
   "outputs": [],
   "source": [
    "def dense_more_injury_communities(num_communities, sample_prop=0.5):\n",
    "    # find accident ids with more injuries\n",
    "    cur = pg.cursor()\n",
    "    query = \"\"\"\n",
    "    SELECT report_id\n",
    "    FROM accidents\n",
    "    WHERE injured > 2\n",
    "    AND date_time >= '2022-01-01'\n",
    "    \"\"\"\n",
    "    cur.execute(query)\n",
    "    severe_ids = list(map(lambda tup: tup[0], cur.fetchall()))\n",
    "    cur.close()\n",
    "    \n",
    "    # find severe accident and construct GDS graph\n",
    "    session = create_neo4j_session(uri, username, password)\n",
    "\n",
    "    severe_accidents_gds = f\"\"\"\n",
    "    UNWIND {severe_ids} AS nId\n",
    "    UNWIND {severe_ids} AS mId\n",
    "    MATCH (n:Accident {{id: nId}})-[edges:WITHIN_RANGE]-(m:Accident {{id: mId}})\n",
    "    WHERE id(n) > id(m)\n",
    "\n",
    "    WITH DISTINCT edges AS r\n",
    "    WITH startNode(r) AS startNode, endNode(r) AS endNode\n",
    "    WITH gds.alpha.graph.project(\n",
    "        'severeAccidents',\n",
    "        startNode,\n",
    "        endNode,\n",
    "        {{}},\n",
    "        {{}},\n",
    "        {{undirectedRelationshipTypes: ['*']}}\n",
    "    ) AS g\n",
    "    RETURN g\n",
    "    \"\"\"\n",
    "    \n",
    "    result = session.run(severe_accidents_gds)\n",
    "    session.close()\n",
    "    \n",
    "    # find communities\n",
    "    communities = dense_accident_communities(num_communities, gds_name='severeAccidents', sample_prop=sample_prop)\n",
    "    \n",
    "    # drop gds graph\n",
    "    try:\n",
    "        session = create_neo4j_session(uri, username, password)\n",
    "        drop_gds = \"CALL gds.graph.drop('severeAccidents')\"\n",
    "        session.run(drop_gds)\n",
    "    except:\n",
    "        print('Dropping Graph Failed')\n",
    "    finally:\n",
    "        session.close()\n",
    "    \n",
    "    return communities"
   ]
  },
  {
   "cell_type": "code",
   "execution_count": 255,
   "id": "aa834fc0",
   "metadata": {},
   "outputs": [
    {
     "data": {
      "text/plain": [
       "[{'num_accidents': 30, 'community': 'East Village'},\n",
       " {'num_accidents': 22, 'community': 'City Heights'},\n",
       " {'num_accidents': 21, 'community': 'Ocean Beach'},\n",
       " {'num_accidents': 21, 'community': 'North Park'},\n",
       " {'num_accidents': 20, 'community': 'Mid-City'}]"
      ]
     },
     "execution_count": 255,
     "metadata": {},
     "output_type": "execute_result"
    }
   ],
   "source": [
    "dense_more_injury_communities(5, sample_prop=0.5)"
   ]
  },
  {
   "cell_type": "markdown",
   "id": "3218e06c",
   "metadata": {},
   "source": [
    "#### (3) For each month existed in the graph, where did accidents most frequently occur?"
   ]
  },
  {
   "cell_type": "code",
   "execution_count": 268,
   "id": "a394406f",
   "metadata": {},
   "outputs": [],
   "source": [
    "def monthly_dense_communities(sample_prop=0.2):\n",
    "    # find accident ids with more injuries\n",
    "    cur = pg.cursor()\n",
    "    query = \"\"\"\n",
    "    SELECT to_char(date_time, 'YYYY-MM') AS year_month, ARRAY_AGG(report_id)\n",
    "    FROM accidents\n",
    "    WHERE date_time >= '2022-01-01'\n",
    "    GROUP BY year_month\n",
    "    \"\"\"\n",
    "    cur.execute(query)\n",
    "    monthly_accidents = list(map(lambda tup: (tup[0], list(tup[1])), cur.fetchall()))\n",
    "    cur.close()\n",
    "    \n",
    "    # process each month\n",
    "    monthly_results = []\n",
    "    for month, node_ids in monthly_accidents:\n",
    "        session = create_neo4j_session(uri, username, password)\n",
    "        create_gds = f\"\"\"\n",
    "        UNWIND {node_ids} AS nId\n",
    "        UNWIND {node_ids} AS mId\n",
    "        MATCH (n:Accident {{id: nId}})-[edges:WITHIN_RANGE]-(m:Accident {{id: mId}})\n",
    "        WHERE id(n) > id(m)\n",
    "\n",
    "        WITH DISTINCT edges AS r\n",
    "        WITH startNode(r) AS startNode, endNode(r) AS endNode\n",
    "        WITH gds.alpha.graph.project(\n",
    "            'monthlyAccidents',\n",
    "            startNode,\n",
    "            endNode,\n",
    "            {{}},\n",
    "            {{}},\n",
    "            {{undirectedRelationshipTypes: ['*']}}\n",
    "        ) AS g\n",
    "        RETURN g\n",
    "        \"\"\"\n",
    "        result = session.run(create_gds)\n",
    "        result.consume()\n",
    "\n",
    "        # find communities\n",
    "        community = dense_accident_communities(1, gds_name='monthlyAccidents', sample_prop=sample_prop)[0]\n",
    "        community['month'] = month\n",
    "        monthly_results.append(community)\n",
    "\n",
    "        # drop graph view\n",
    "        drop_gds = \"CALL gds.graph.drop('monthlyAccidents')\"\n",
    "        result = session.run(drop_gds)\n",
    "        result.consume()\n",
    "        session.close()\n",
    "\n",
    "    return monthly_results"
   ]
  },
  {
   "cell_type": "code",
   "execution_count": 269,
   "id": "2d2dfd3b",
   "metadata": {
    "scrolled": false
   },
   "outputs": [
    {
     "name": "stderr",
     "output_type": "stream",
     "text": [
      "Failed to write data to connection IPv4Address(('localhost', 7666)) (ResolvedIPv6Address(('::1', 7666, 0, 0)))\n",
      "Failed to write data to connection IPv4Address(('localhost', 7666)) (ResolvedIPv6Address(('::1', 7666, 0, 0)))\n",
      "Failed to write data to connection IPv4Address(('localhost', 7666)) (ResolvedIPv6Address(('::1', 7666, 0, 0)))\n",
      "Failed to write data to connection IPv4Address(('localhost', 7666)) (ResolvedIPv6Address(('::1', 7666, 0, 0)))\n",
      "Failed to write data to connection IPv4Address(('localhost', 7666)) (ResolvedIPv6Address(('::1', 7666, 0, 0)))\n",
      "Failed to write data to connection IPv4Address(('localhost', 7666)) (ResolvedIPv6Address(('::1', 7666, 0, 0)))\n",
      "Failed to write data to connection IPv4Address(('localhost', 7666)) (ResolvedIPv6Address(('::1', 7666, 0, 0)))\n",
      "Failed to write data to connection IPv4Address(('localhost', 7666)) (ResolvedIPv6Address(('::1', 7666, 0, 0)))\n",
      "Failed to write data to connection IPv4Address(('localhost', 7666)) (ResolvedIPv6Address(('::1', 7666, 0, 0)))\n",
      "Failed to write data to connection IPv4Address(('localhost', 7666)) (ResolvedIPv6Address(('::1', 7666, 0, 0)))\n",
      "Failed to write data to connection IPv4Address(('localhost', 7666)) (ResolvedIPv6Address(('::1', 7666, 0, 0)))\n",
      "Failed to write data to connection IPv4Address(('localhost', 7666)) (ResolvedIPv6Address(('::1', 7666, 0, 0)))\n",
      "Failed to write data to connection IPv4Address(('localhost', 7666)) (ResolvedIPv6Address(('::1', 7666, 0, 0)))\n",
      "Failed to write data to connection IPv4Address(('localhost', 7666)) (ResolvedIPv6Address(('::1', 7666, 0, 0)))\n",
      "Failed to write data to connection IPv4Address(('localhost', 7666)) (ResolvedIPv6Address(('::1', 7666, 0, 0)))\n",
      "Failed to write data to connection IPv4Address(('localhost', 7666)) (ResolvedIPv6Address(('::1', 7666, 0, 0)))\n"
     ]
    },
    {
     "data": {
      "text/plain": [
       "[{'num_accidents': 30, 'community': 'Sherman Heights', 'month': '2022-01'},\n",
       " {'num_accidents': 34, 'community': \"Banker's Hill\", 'month': '2022-02'},\n",
       " {'num_accidents': 33, 'community': 'City Heights', 'month': '2022-03'},\n",
       " {'num_accidents': 33, 'community': 'East Village', 'month': '2022-04'},\n",
       " {'num_accidents': 29, 'community': 'East Village', 'month': '2022-05'},\n",
       " {'num_accidents': 43, 'community': 'East Village', 'month': '2022-06'},\n",
       " {'num_accidents': 25, 'community': 'Mid-City', 'month': '2022-07'},\n",
       " {'num_accidents': 32, 'community': 'City Heights', 'month': '2022-08'},\n",
       " {'num_accidents': 30, 'community': 'East Village', 'month': '2022-09'},\n",
       " {'num_accidents': 35, 'community': \"Banker's Hill\", 'month': '2022-10'},\n",
       " {'num_accidents': 24, 'community': 'City Heights', 'month': '2022-11'},\n",
       " {'num_accidents': 21, 'community': \"Banker's Hill\", 'month': '2022-12'},\n",
       " {'num_accidents': 42, 'community': 'City Heights', 'month': '2023-01'},\n",
       " {'num_accidents': 19, 'community': 'City Heights', 'month': '2023-02'},\n",
       " {'num_accidents': 30, 'community': 'East Village', 'month': '2023-03'},\n",
       " {'num_accidents': 33, 'community': 'East Village', 'month': '2023-04'},\n",
       " {'num_accidents': 26, 'community': 'Marina District', 'month': '2023-05'}]"
      ]
     },
     "execution_count": 269,
     "metadata": {},
     "output_type": "execute_result"
    }
   ],
   "source": [
    "monthly_dense_communities(sample_prop=0.5)"
   ]
  },
  {
   "cell_type": "markdown",
   "id": "816f782f",
   "metadata": {},
   "source": [
    "#### (4) For each 2-hour period in a day, where did accidents most frequently occur?"
   ]
  },
  {
   "cell_type": "code",
   "execution_count": 273,
   "id": "6a1b6c2a",
   "metadata": {},
   "outputs": [],
   "source": [
    "def hourly_dense_communities(period=2, sample_prop=0.2):\n",
    "    # find accident ids with more injuries\n",
    "    cur = pg.cursor()\n",
    "    query = f\"\"\"\n",
    "    SELECT\n",
    "        to_char(date_time, 'HH24') :: INTEGER / {period} AS hour,\n",
    "        ARRAY_AGG(report_id)\n",
    "    FROM accidents\n",
    "    WHERE date_time >= '2022-01-01'\n",
    "    GROUP BY hour\n",
    "    ORDER BY hour ASC\n",
    "    \"\"\"\n",
    "    cur.execute(query)\n",
    "    hourly_accidents = list(map(lambda tup: (tup[0], list(tup[1])), cur.fetchall()))\n",
    "    cur.close()\n",
    "    \n",
    "    # process each hour group\n",
    "    hourly_results = []\n",
    "    for hour_group, node_ids in hourly_accidents:\n",
    "        session = create_neo4j_session(uri, username, password)\n",
    "        create_gds = f\"\"\"\n",
    "        UNWIND {node_ids} AS nId\n",
    "        UNWIND {node_ids} AS mId\n",
    "        MATCH (n:Accident {{id: nId}})-[edges:WITHIN_RANGE]-(m:Accident {{id: mId}})\n",
    "        WHERE id(n) > id(m)\n",
    "\n",
    "        WITH DISTINCT edges AS r\n",
    "        WITH startNode(r) AS startNode, endNode(r) AS endNode\n",
    "        WITH gds.alpha.graph.project(\n",
    "            'hourlyAccidents',\n",
    "            startNode,\n",
    "            endNode,\n",
    "            {{}},\n",
    "            {{}},\n",
    "            {{undirectedRelationshipTypes: ['*']}}\n",
    "        ) AS g\n",
    "        RETURN g\n",
    "        \"\"\"\n",
    "        result = session.run(create_gds)\n",
    "        result.consume()\n",
    "\n",
    "        # find communities\n",
    "        community = dense_accident_communities(1, gds_name='hourlyAccidents', sample_prop=sample_prop)[0]\n",
    "        start_hour = hour_group * period\n",
    "        end_hour = (start_hour + period) % 24\n",
    "        community['hours'] = f'{start_hour}:00-{end_hour}:00'\n",
    "        hourly_results.append(community)\n",
    "\n",
    "        # drop graph view\n",
    "        drop_gds = \"CALL gds.graph.drop('hourlyAccidents')\"\n",
    "        result = session.run(drop_gds)\n",
    "        result.consume()\n",
    "        session.close()\n",
    "\n",
    "    return hourly_results"
   ]
  },
  {
   "cell_type": "code",
   "execution_count": 274,
   "id": "a364525b",
   "metadata": {},
   "outputs": [
    {
     "name": "stderr",
     "output_type": "stream",
     "text": [
      "Failed to write data to connection IPv4Address(('localhost', 7666)) (ResolvedIPv6Address(('::1', 7666, 0, 0)))\n",
      "Failed to write data to connection IPv4Address(('localhost', 7666)) (ResolvedIPv6Address(('::1', 7666, 0, 0)))\n",
      "Failed to write data to connection IPv4Address(('localhost', 7666)) (ResolvedIPv6Address(('::1', 7666, 0, 0)))\n",
      "Failed to write data to connection IPv4Address(('localhost', 7666)) (ResolvedIPv6Address(('::1', 7666, 0, 0)))\n",
      "Failed to write data to connection IPv4Address(('localhost', 7666)) (ResolvedIPv6Address(('::1', 7666, 0, 0)))\n",
      "Failed to write data to connection IPv4Address(('localhost', 7666)) (ResolvedIPv6Address(('::1', 7666, 0, 0)))\n",
      "Failed to write data to connection IPv4Address(('localhost', 7666)) (ResolvedIPv6Address(('::1', 7666, 0, 0)))\n",
      "Failed to write data to connection IPv4Address(('localhost', 7666)) (ResolvedIPv6Address(('::1', 7666, 0, 0)))\n",
      "Failed to write data to connection IPv4Address(('localhost', 7666)) (ResolvedIPv6Address(('::1', 7666, 0, 0)))\n",
      "Failed to write data to connection IPv4Address(('localhost', 7666)) (ResolvedIPv6Address(('::1', 7666, 0, 0)))\n"
     ]
    },
    {
     "data": {
      "text/plain": [
       "[{'num_accidents': 41, 'community': 'East Village', 'hours': '0:00-2:00'},\n",
       " {'num_accidents': 39, 'community': 'Sherman Heights', 'hours': '2:00-4:00'},\n",
       " {'num_accidents': 12, 'community': 'City Heights', 'hours': '4:00-6:00'},\n",
       " {'num_accidents': 23, 'community': 'San Diego', 'hours': '6:00-8:00'},\n",
       " {'num_accidents': 31, 'community': \"Banker's Hill\", 'hours': '8:00-10:00'},\n",
       " {'num_accidents': 39, 'community': 'Sherman Heights', 'hours': '10:00-12:00'},\n",
       " {'num_accidents': 58, 'community': \"Banker's Hill\", 'hours': '12:00-14:00'},\n",
       " {'num_accidents': 64, 'community': 'City Heights', 'hours': '14:00-16:00'},\n",
       " {'num_accidents': 71, 'community': 'City Heights', 'hours': '16:00-18:00'},\n",
       " {'num_accidents': 51, 'community': 'Golden Hill', 'hours': '18:00-20:00'},\n",
       " {'num_accidents': 69, 'community': 'City Heights', 'hours': '20:00-22:00'},\n",
       " {'num_accidents': 60, 'community': \"Banker's Hill\", 'hours': '22:00-0:00'}]"
      ]
     },
     "execution_count": 274,
     "metadata": {},
     "output_type": "execute_result"
    }
   ],
   "source": [
    "hourly_dense_communities(period=2, sample_prop=0.05)"
   ]
  },
  {
   "cell_type": "markdown",
   "id": "c523c837",
   "metadata": {},
   "source": [
    "#### (5) "
   ]
  },
  {
   "cell_type": "code",
   "execution_count": 292,
   "id": "aa43c0e6",
   "metadata": {},
   "outputs": [],
   "source": [
    "cur = pg.cursor()\n",
    "query = \"\"\"\n",
    "SELECT DISTINCT report_id\n",
    "FROM accident_info \n",
    "WHERE veh_make = 'BIRD'\n",
    "\"\"\"\n",
    "cur.execute(query)\n",
    "bird_acc = list(map(lambda tup: tup[0], cur.fetchall()))\n",
    "\n",
    "cur.close()"
   ]
  },
  {
   "cell_type": "code",
   "execution_count": 293,
   "id": "49d80a7d",
   "metadata": {},
   "outputs": [
    {
     "data": {
      "text/plain": [
       "446"
      ]
     },
     "execution_count": 293,
     "metadata": {},
     "output_type": "execute_result"
    }
   ],
   "source": [
    "len(bird_acc)"
   ]
  },
  {
   "cell_type": "code",
   "execution_count": 294,
   "id": "ca656dba",
   "metadata": {},
   "outputs": [],
   "source": [
    "session = create_neo4j_session(uri, username, password)\n",
    "\n",
    "# add full graph to GDS\n",
    "bird_graph = f\"\"\"\n",
    "UNWIND {bird_acc} AS aId\n",
    "MATCH (a:Accident {{id: aId}})-[r:WITHIN_RANGE]->(b)\n",
    "RETURN COUNT(DISTINCT b) AS num\n",
    "\"\"\"\n",
    "\n",
    "result = session.run(bird_graph)\n",
    "bird_result = [record['num'] for record in result][0]\n",
    "session.close()"
   ]
  },
  {
   "cell_type": "code",
   "execution_count": 296,
   "id": "7ee6e8fe",
   "metadata": {},
   "outputs": [
    {
     "data": {
      "text/plain": [
       "1.515695067264574"
      ]
     },
     "execution_count": 296,
     "metadata": {},
     "output_type": "execute_result"
    }
   ],
   "source": [
    "bird_result / len(bird_acc)"
   ]
  },
  {
   "cell_type": "code",
   "execution_count": null,
   "id": "2bbd7e68",
   "metadata": {},
   "outputs": [],
   "source": []
  }
 ],
 "metadata": {
  "kernelspec": {
   "display_name": "Python 3 (ipykernel)",
   "language": "python",
   "name": "python3"
  },
  "language_info": {
   "codemirror_mode": {
    "name": "ipython",
    "version": 3
   },
   "file_extension": ".py",
   "mimetype": "text/x-python",
   "name": "python",
   "nbconvert_exporter": "python",
   "pygments_lexer": "ipython3",
   "version": "3.8.8"
  }
 },
 "nbformat": 4,
 "nbformat_minor": 5
}
