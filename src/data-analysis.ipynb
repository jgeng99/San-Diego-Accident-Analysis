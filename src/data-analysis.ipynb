{
 "cells": [
  {
   "attachments": {},
   "cell_type": "markdown",
   "id": "ed06350f",
   "metadata": {},
   "source": [
    "### Setup"
   ]
  },
  {
   "cell_type": "code",
   "execution_count": 1,
   "id": "060512b4",
   "metadata": {},
   "outputs": [],
   "source": [
    "# databases\n",
    "import psycopg2\n",
    "import sqlparse\n",
    "\n",
    "# external core\n",
    "import numpy as np\n",
    "import pandas as pd\n",
    "import matplotlib.pyplot as plt\n",
    "\n",
    "%matplotlib inline\n",
    "%config InlineBackend.figure_format = 'retina'  # Higher resolution figures\n",
    "\n",
    "# utility\n",
    "import getpass\n",
    "from tqdm.notebook import tqdm"
   ]
  },
  {
   "cell_type": "code",
   "execution_count": 4,
   "id": "c684b216",
   "metadata": {},
   "outputs": [],
   "source": [
    "import json\n",
    "\n",
    "path2Save = '../data/password.json'\n",
    "\n",
    "passDict = {'pass': 'YOURPASSWORDHERE'}\n",
    "\n",
    "with open(path2Save, 'w') as f:\n",
    "    json_object = json.dump(passDict, f)"
   ]
  },
  {
   "attachments": {},
   "cell_type": "markdown",
   "id": "fe0d9b94",
   "metadata": {},
   "source": [
    "### PostgreSQL Login"
   ]
  },
  {
   "cell_type": "code",
   "execution_count": 8,
   "id": "2d693e24",
   "metadata": {},
   "outputs": [],
   "source": [
    "# read password from saved file\n",
    "with open(path2Save, 'r') as f:\n",
    "    pg_password = json.load(f)['pass']\n",
    "\n",
    "# connect to postgres\n",
    "pg = psycopg2.connect(\n",
    "    dbname=\"accident_analysis\",\n",
    "    user=\"postgres\",\n",
    "    password=pg_password,\n",
    "    host=\"localhost\",\n",
    "    port=\"5433\"\n",
    ")\n",
    "\n",
    "cur = pg.cursor()"
   ]
  },
  {
   "attachments": {},
   "cell_type": "markdown",
   "id": "4f06f977",
   "metadata": {},
   "source": [
    "### Analysis"
   ]
  },
  {
   "attachments": {},
   "cell_type": "markdown",
   "id": "34643e5a",
   "metadata": {},
   "source": [
    "##### Identify all tables"
   ]
  },
  {
   "cell_type": "code",
   "execution_count": 9,
   "id": "f3468891",
   "metadata": {},
   "outputs": [
    {
     "name": "stdout",
     "output_type": "stream",
     "text": [
      "accidents\n",
      "accidents_on_road\n",
      "roads\n",
      "reports\n",
      "reports_on_road\n"
     ]
    }
   ],
   "source": [
    "query = \"SELECT tablename FROM pg_catalog.pg_tables WHERE schemaname='public';\"\n",
    "cur.execute(query)\n",
    "table_names = cur.fetchall()\n",
    "\n",
    "for table_name in table_names:\n",
    "    print(table_name[0])"
   ]
  },
  {
   "attachments": {},
   "cell_type": "markdown",
   "id": "cfd0b984",
   "metadata": {},
   "source": [
    "##### Look at the table"
   ]
  },
  {
   "cell_type": "code",
   "execution_count": null,
   "id": "08b16f7b",
   "metadata": {},
   "outputs": [],
   "source": []
  }
 ],
 "metadata": {
  "kernelspec": {
   "display_name": "Python 3 (ipykernel)",
   "language": "python",
   "name": "python3"
  },
  "language_info": {
   "codemirror_mode": {
    "name": "ipython",
    "version": 3
   },
   "file_extension": ".py",
   "mimetype": "text/x-python",
   "name": "python",
   "nbconvert_exporter": "python",
   "pygments_lexer": "ipython3",
   "version": "3.9.12"
  }
 },
 "nbformat": 4,
 "nbformat_minor": 5
}
