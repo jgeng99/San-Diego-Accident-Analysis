{
 "cells": [
  {
   "attachments": {},
   "cell_type": "markdown",
   "id": "ed06350f",
   "metadata": {},
   "source": [
    "### Setup"
   ]
  },
  {
   "cell_type": "code",
   "execution_count": 2,
   "id": "060512b4",
   "metadata": {},
   "outputs": [],
   "source": [
    "# databases\n",
    "import psycopg2\n",
    "import sqlparse\n",
    "import redis\n",
    "from neo4j import GraphDatabase\n",
    "\n",
    "# external core\n",
    "import numpy as np\n",
    "import pandas as pd\n",
    "import matplotlib.pyplot as plt\n",
    "# import geopandas as gpd\n",
    "\n",
    "%matplotlib inline\n",
    "%config InlineBackend.figure_format = 'retina'  # Higher resolution figures\n",
    "\n",
    "# utility\n",
    "import re\n",
    "import time\n",
    "import csv\n",
    "import nltk\n",
    "import getpass\n",
    "from datetime import datetime\n",
    "from tqdm.notebook import tqdm"
   ]
  },
  {
   "attachments": {},
   "cell_type": "markdown",
   "id": "fe0d9b94",
   "metadata": {},
   "source": [
    "### PostgreSQL Loading"
   ]
  },
  {
   "attachments": {},
   "cell_type": "markdown",
   "id": "3f2d113f",
   "metadata": {},
   "source": [
    "#### Connect to Postgres\n",
    "\n",
    "**Warning**: Please make sure to have the database `accident_analysis` created, if not, run the following query manually:\n",
    "```sql\n",
    "CREATE DATABASE accident_analysis;\n",
    "```"
   ]
  },
  {
   "cell_type": "code",
   "execution_count": 5,
   "id": "2d693e24",
   "metadata": {},
   "outputs": [],
   "source": [
    "# connect to postgres\n",
    "pg_password = getpass.getpass(\"Enter Postgres Password: \")\n",
    "pg = psycopg2.connect(\n",
    "    dbname=\"accident_analysis\",\n",
    "    user=\"postgres\",\n",
    "    password=pg_password,\n",
    "    host=\"localhost\",\n",
    "    port=\"5433\"\n",
    ")"
   ]
  },
  {
   "attachments": {},
   "cell_type": "markdown",
   "id": "4f06f977",
   "metadata": {},
   "source": [
    "#### Create Schema"
   ]
  },
  {
   "cell_type": "code",
   "execution_count": 6,
   "id": "c904d3c2",
   "metadata": {},
   "outputs": [],
   "source": [
    "schema = [\"\"\"\n",
    "    CREATE TABLE IF NOT EXISTS accidents (\n",
    "        report_id VARCHAR PRIMARY KEY,\n",
    "        date_time TIMESTAMP,\n",
    "        violation_section VARCHAR,\n",
    "        violation_type CHAR(2),\n",
    "        injured INT NOT NULL,\n",
    "        killed INT NOT NULL,\n",
    "        hit_run_lvl VARCHAR\n",
    "    );\n",
    "    \"\"\",\n",
    "    \"\"\"\n",
    "    CREATE TABLE IF NOT EXISTS roads (\n",
    "        objectid VARCHAR PRIMARY KEY,\n",
    "        roadsegid VARCHAR,\n",
    "        roadid VARCHAR,\n",
    "        road_name VARCHAR,\n",
    "        speed INT,\n",
    "        oneway CHAR(1),\n",
    "        firedriv CHAR(1)\n",
    "    );\n",
    "    \"\"\",\n",
    "    \"\"\"\n",
    "    CREATE TABLE IF NOT EXISTS reports (\n",
    "        service_request_id VARCHAR PRIMARY KEY,\n",
    "        date_requested TIMESTAMP,\n",
    "        case_age_days INT,\n",
    "        service_name VARCHAR,\n",
    "        service_name_detail VARCHAR,\n",
    "        status VARCHAR,\n",
    "        street_address VARCHAR,\n",
    "        council_district INT,\n",
    "        case_origin VARCHAR\n",
    "    );\n",
    "    \"\"\",\n",
    "    \"\"\"\n",
    "    CREATE TABLE IF NOT EXISTS accidents_on_road (\n",
    "        report_id VARCHAR REFERENCES accidents(report_id),\n",
    "        objectid VARCHAR REFERENCES roads(objectid)\n",
    "    );\n",
    "    \"\"\",\n",
    "    \"\"\"\n",
    "    CREATE TABLE IF NOT EXISTS reports_on_road (\n",
    "        service_request_id VARCHAR REFERENCES reports(service_request_id),\n",
    "        objectid VARCHAR REFERENCES roads(objectid)\n",
    "    );\n",
    "    \"\"\"\n",
    "]\n",
    "cur = pg.cursor()\n",
    "for table_schema in schema:\n",
    "    cur.execute(table_schema)\n",
    "pg.commit()\n",
    "cur.close()"
   ]
  },
  {
   "attachments": {},
   "cell_type": "markdown",
   "id": "e3d7c050",
   "metadata": {},
   "source": [
    "#### Load Table"
   ]
  },
  {
   "cell_type": "code",
   "execution_count": 7,
   "id": "c7d15ee5",
   "metadata": {},
   "outputs": [],
   "source": [
    "def load_table(table_name, cols=None):\n",
    "    # subset\n",
    "    if cols is None:\n",
    "        file_to_load = f'../data/{table_name}.csv'\n",
    "    else:\n",
    "        file_to_load = f'../data/{table_name}_sql.csv'\n",
    "        pd.read_csv(f'../data/{table_name}.csv', usecols=cols).to_csv(file_to_load, index=False)\n",
    "    \n",
    "    # load\n",
    "    cur = pg.cursor()\n",
    "    try:\n",
    "        with open(file_to_load, 'r') as f:\n",
    "            next(f) # header\n",
    "            cur.copy_from(f, table_name, sep=',')\n",
    "        pg.commit()\n",
    "    except Exception as e:\n",
    "        print('ERROR:', e)\n",
    "        pg.rollback()\n",
    "    cur.close()"
   ]
  },
  {
   "cell_type": "code",
   "execution_count": 8,
   "id": "b151d764",
   "metadata": {},
   "outputs": [],
   "source": [
    "load_table('accidents', cols=[\n",
    "    'report_id', 'date_time', \n",
    "    'violation_section', 'violation_type',\n",
    "    'injured', 'killed', 'hit_run_lvl'\n",
    "])"
   ]
  },
  {
   "cell_type": "code",
   "execution_count": 9,
   "id": "f2391c7c",
   "metadata": {
    "scrolled": false
   },
   "outputs": [],
   "source": [
    "load_table('roads', cols=[\n",
    "    'objectid', 'roadsegid', 'roadid', 'rd20full',\n",
    "    'speed', 'oneway', 'firedriv'\n",
    "])"
   ]
  },
  {
   "cell_type": "code",
   "execution_count": 10,
   "id": "a8c8acd8",
   "metadata": {
    "scrolled": false
   },
   "outputs": [],
   "source": [
    "load_table('reports', cols=[\n",
    "    'service_request_id', 'date_requested', \n",
    "    'case_age_days', 'service_name', 'service_name_detail',\n",
    "    'status', 'street_address', \n",
    "    'council_district', 'case_origin'\n",
    "])"
   ]
  },
  {
   "cell_type": "code",
   "execution_count": 11,
   "id": "2a4aaa04",
   "metadata": {},
   "outputs": [],
   "source": [
    "load_table('accidents_on_road')\n",
    "load_table('reports_on_road')"
   ]
  },
  {
   "cell_type": "code",
   "execution_count": null,
   "id": "f8efa240",
   "metadata": {},
   "outputs": [],
   "source": [
    "cur.close()\n",
    "pg.close()"
   ]
  },
  {
   "attachments": {},
   "cell_type": "markdown",
   "id": "35c79a87",
   "metadata": {},
   "source": [
    "### Neo4J Graph Loading"
   ]
  },
  {
   "attachments": {},
   "cell_type": "markdown",
   "id": "c2913785",
   "metadata": {},
   "source": [
    "#### Connect to Neo4J"
   ]
  },
  {
   "cell_type": "code",
   "execution_count": 2,
   "id": "50fd33bd",
   "metadata": {},
   "outputs": [],
   "source": [
    "uri = \"bolt://localhost:7666\"\n",
    "username = \"neo4j\"\n",
    "password = \"password\"\n",
    "\n",
    "def create_neo4j_session(uri, username, password):\n",
    "    try:\n",
    "        driver = GraphDatabase.driver(uri, auth=(username, password))\n",
    "        session = driver.session()\n",
    "        return session\n",
    "    except Exception as e:\n",
    "        print(f\"Failed to create Neo4j session: {e}\")\n",
    "        return None"
   ]
  },
  {
   "attachments": {},
   "cell_type": "markdown",
   "id": "7eac2a2b",
   "metadata": {},
   "source": [
    "#### Add Constraints"
   ]
  },
  {
   "cell_type": "code",
   "execution_count": 3,
   "id": "b35e19fe",
   "metadata": {},
   "outputs": [],
   "source": [
    "session = create_neo4j_session(uri, username, password)\n",
    "\n",
    "accident_constraint = \"\"\"\n",
    "CREATE CONSTRAINT accident_id IF NOT EXISTS \n",
    "FOR (n:Accident) REQUIRE n.id IS UNIQUE\n",
    "\"\"\"\n",
    "result = session.run(accident_constraint)\n",
    "\n",
    "road_constraint = \"\"\"\n",
    "CREATE CONSTRAINT road_id IF NOT EXISTS\n",
    "FOR (n:Road) REQUIRE n.id IS UNIQUE\n",
    "\"\"\"\n",
    "result = session.run(road_constraint)\n",
    "\n",
    "report_constraint = \"\"\"\n",
    "CREATE CONSTRAINT report_id IF NOT EXISTS\n",
    "FOR (n:Report) REQUIRE n.id IS UNIQUE\n",
    "\"\"\"\n",
    "result = session.run(report_constraint)\n",
    "\n",
    "# Close the session and driver\n",
    "session.close()"
   ]
  },
  {
   "attachments": {},
   "cell_type": "markdown",
   "id": "409ce5b2",
   "metadata": {},
   "source": [
    "#### Add Nodes\n",
    "\n",
    "***Note***: Due to the data size, we only load accidents starting from 2022, which we believe is a representative sample of all accidents."
   ]
  },
  {
   "cell_type": "code",
   "execution_count": null,
   "id": "d6f990ea",
   "metadata": {},
   "outputs": [],
   "source": [
    "# insert nodes\n",
    "session = create_neo4j_session(uri, username, password)\n",
    "\n",
    "accident_node = f\"\"\"\n",
    "LOAD CSV WITH HEADERS FROM 'file:///accidents.csv' AS row\n",
    "WITH row\n",
    "WHERE date(left(row.date_time, 10)) >= date('2022-01-01')\n",
    "CALL {{\n",
    "    WITH row\n",
    "    MERGE (acc:Accident {{\n",
    "        id: row.report_id,\n",
    "        pt: point({{longitude: toFloat(row.x), latitude: toFloat(row.y)}})\n",
    "    }})\n",
    "    RETURN count(*) AS count\n",
    "}}\n",
    "IN TRANSACTIONS OF 200 ROWS\n",
    "RETURN count(*) AS totalCount\n",
    "\n",
    "\"\"\"\n",
    "result = session.run(accident_node)\n",
    "\n",
    "report_node = f\"\"\"\n",
    "LOAD CSV WITH HEADERS FROM 'file:///get-it-done-reports.csv' AS row\n",
    "WITH row\n",
    "WHERE date(left(row.date_requested, 10)) >= date('2022-01-01')\n",
    "CALL {{\n",
    "    WITH row\n",
    "    MERGE (acc:Report {{\n",
    "        id: row.service_request_id,\n",
    "        pt: point({{longitude: toFloat(row.lng), latitude: toFloat(row.lat)}}),\n",
    "        service_name: row.service_name\n",
    "    }})\n",
    "    RETURN count(*) AS count  \n",
    "}} IN TRANSACTIONS OF 200 ROWS\n",
    "RETURN count(*) AS totalCount\n",
    "\"\"\"\n",
    "\n",
    "result = session.run(report_node)\n",
    "\n",
    "road_node = \"\"\"\n",
    "LOAD CSV WITH HEADERS FROM 'file:///roads.csv' AS row\n",
    "CALL {\n",
    "    WITH row\n",
    "    MERGE (acc:Road {\n",
    "        id: row.objectid,\n",
    "        segment_id: row.roadsegid,\n",
    "        road_id: row.roadid,\n",
    "        name: row.rd20full\n",
    "    })\n",
    "    RETURN count(*) AS count  \n",
    "} IN TRANSACTIONS OF 200 ROWS\n",
    "RETURN count(*) AS totalCount\n",
    "\"\"\"\n",
    "\n",
    "result = session.run(road_node)\n",
    "\n",
    "# Close the session and driver\n",
    "session.close()"
   ]
  },
  {
   "attachments": {},
   "cell_type": "markdown",
   "id": "14a14779",
   "metadata": {},
   "source": [
    "#### Add Relationships"
   ]
  },
  {
   "cell_type": "code",
   "execution_count": 6,
   "id": "b44e9121",
   "metadata": {},
   "outputs": [],
   "source": [
    "### accident - accident relationships\n",
    "session = create_neo4j_session(uri, username, password)\n",
    "\n",
    "acc_dist_query = \"\"\"\n",
    "MATCH (acc1:Accident), (acc2:Accident)\n",
    "WHERE id(acc1) > id(acc2)\n",
    "WITH acc1, acc2, point.distance(acc1.pt, acc2.pt) AS pt_dist\n",
    "WHERE pt_dist <= 500\n",
    "MERGE (acc1)-[:WITHIN_RANGE {dist: pt_dist}]->(acc2)\n",
    "\"\"\"\n",
    "\n",
    "result = session.run(acc_dist_query)\n",
    "session.close()"
   ]
  },
  {
   "cell_type": "code",
   "execution_count": 13,
   "id": "e194b7aa",
   "metadata": {},
   "outputs": [],
   "source": [
    "### accident - road relationships\n",
    "session = create_neo4j_session(uri, username, password)\n",
    "\n",
    "acc_road_rel_query = \"\"\"\n",
    "LOAD CSV WITH HEADERS FROM 'file:///accidents_on_road.csv' AS row\n",
    "CALL {\n",
    "    WITH row\n",
    "    MATCH (a:Accident {id: row.report_id})\n",
    "    MATCH (r:Road {id: row.objectid})\n",
    "    CALL apoc.merge.relationship(\n",
    "        a, 'HAPPENS_ON', {}, {}, r, {}\n",
    "    ) YIELD rel\n",
    "    RETURN count(*) AS count\n",
    "    \n",
    "} IN TRANSACTIONS OF 200 ROWS\n",
    "RETURN count(*) AS totalCount\n",
    "\"\"\"\n",
    "\n",
    "result = session.run(acc_road_rel_query)\n",
    "session.close()"
   ]
  },
  {
   "cell_type": "code",
   "execution_count": 15,
   "id": "a4673ee7",
   "metadata": {},
   "outputs": [],
   "source": [
    "### report - road relationships\n",
    "session = create_neo4j_session(uri, username, password)\n",
    "\n",
    "report_road_rel_query = \"\"\"\n",
    "LOAD CSV WITH HEADERS FROM 'file:///reports_on_road.csv' AS row\n",
    "CALL {\n",
    "    WITH row\n",
    "    MATCH (a:Report {id: row.service_request_id})\n",
    "    MATCH (r:Road {id: row.objectid})\n",
    "    CALL apoc.merge.relationship(\n",
    "        a, 'REPORTED_ON', {}, {}, r, {}\n",
    "    ) YIELD rel\n",
    "    RETURN count(*) AS count\n",
    "    \n",
    "} IN TRANSACTIONS OF 200 ROWS\n",
    "RETURN count(*) AS totalCount\n",
    "\"\"\"\n",
    "\n",
    "result = session.run(report_road_rel_query)\n",
    "session.close()"
   ]
  },
  {
   "cell_type": "code",
   "execution_count": null,
   "id": "f3468891",
   "metadata": {},
   "outputs": [],
   "source": []
  }
 ],
 "metadata": {
  "kernelspec": {
   "display_name": "Python 3 (ipykernel)",
   "language": "python",
   "name": "python3"
  },
  "language_info": {
   "codemirror_mode": {
    "name": "ipython",
    "version": 3
   },
   "file_extension": ".py",
   "mimetype": "text/x-python",
   "name": "python",
   "nbconvert_exporter": "python",
   "pygments_lexer": "ipython3",
   "version": "3.9.12"
  }
 },
 "nbformat": 4,
 "nbformat_minor": 5
}
